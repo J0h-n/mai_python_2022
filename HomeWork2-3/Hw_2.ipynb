{
  "cells": [
    {
      "cell_type": "code",
      "source": [
        "import json"
      ],
      "metadata": {
        "id": "dRsk-Kj3UZqy"
      },
      "execution_count": null,
      "outputs": []
    },
    {
      "cell_type": "markdown",
      "source": [
        "Напоминание: вам понадобится материал лекций: 3 - Списки и кортежи 4 - Словари и множества 7 и 8 - Классы 9 - Работа с файлами\n",
        "\n",
        "ЗАДАНИЕ 1: Работа с файлами\n",
        "\n",
        "TODO 1-1 Прочитайте данные из файла pilot_path.json (лекция 9)"
      ],
      "metadata": {
        "id": "DHB_cQJcG_Oa"
      }
    },
    {
      "cell_type": "code",
      "source": [
        "f = open('pilot_path.json')\n",
        "data = json.load(f)"
      ],
      "metadata": {
        "id": "QcxbckbrUZtQ"
      },
      "execution_count": null,
      "outputs": []
    },
    {
      "cell_type": "markdown",
      "source": [
        "\n",
        "ЗАДАНИЕ 2: Расчет статистик\n",
        "\n",
        "TODO 2-1) Подсчитайте, сколько миссий налетал каждый пилот. Выведите результат в порядке убывания миссий ИНФОРМАЦИЯ: структура данных в файле: {\"имя_пилота\": \"список_миссий\":[миссия1, ...]] структура одной миссии: {\"drone\":\"модель_дрона\", \"mission\":[список точек миссии]} у пилотов неодинаковое количество миссий (и миссии могут быть разной длины). у каждой миссии - произвольная модель дрона"
      ],
      "metadata": {
        "id": "S_DV6JfdHItt"
      }
    },
    {
      "cell_type": "code",
      "source": [
        "data.keys()\n",
        "# print(len(data['missions'][0]['mission']))"
      ],
      "metadata": {
        "id": "fjEffAgqUZvq",
        "outputId": "f64fba67-5496-43e2-809e-205410ade1f2",
        "colab": {
          "base_uri": "https://localhost:8080/"
        }
      },
      "execution_count": null,
      "outputs": [
        {
          "output_type": "execute_result",
          "data": {
            "text/plain": [
              "dict_keys(['pilot9', 'pilot3', 'pilot5', 'pilot6', 'pilot7', 'pilot1', 'pilot2', 'pilot8', 'pilot4'])"
            ]
          },
          "metadata": {},
          "execution_count": 3
        }
      ]
    },
    {
      "cell_type": "code",
      "source": [
        "missionlist={}\n",
        "for p in data.keys():\n",
        "\tmissionlist[p] = (len(data[p]['missions']))\n",
        "print(f\"Пилоты в порядке убывания количества миссий: {dict(sorted(missionlist.items(), key=lambda item: item[1], reverse=True))}\")"
      ],
      "metadata": {
        "id": "j4b8TS1kGOr3",
        "outputId": "cc8b3566-8c4a-4691-8ef5-15ea34502d6d",
        "colab": {
          "base_uri": "https://localhost:8080/"
        }
      },
      "execution_count": null,
      "outputs": [
        {
          "output_type": "stream",
          "name": "stdout",
          "text": [
            "Пилоты в порядке убывания количества миссий: {'pilot3': 6, 'pilot8': 6, 'pilot6': 5, 'pilot2': 5, 'pilot7': 4, 'pilot9': 3, 'pilot5': 3, 'pilot4': 2, 'pilot1': 1}\n"
          ]
        }
      ]
    },
    {
      "cell_type": "markdown",
      "source": [
        "\n",
        "TODO 2-2) Получите и выведите список всех моделей дронов, которые были в файле pilot_path.json Подсказка: внутри print используйте str.join(), чтобы соединить элементы списка (множества)"
      ],
      "metadata": {
        "id": "7npG9GPiHOjl"
      }
    },
    {
      "cell_type": "code",
      "source": [
        "drone_list = []\n",
        "for p in data.keys():\n",
        "    print(p)\n",
        "    for x in data[p]['missions']:\n",
        "        drone_list.append(x['drone'])"
      ],
      "metadata": {
        "id": "k9r8ftM4GStc",
        "outputId": "14764b7d-f301-489f-9099-c1f33f1f049a",
        "colab": {
          "base_uri": "https://localhost:8080/"
        }
      },
      "execution_count": null,
      "outputs": [
        {
          "output_type": "stream",
          "name": "stdout",
          "text": [
            "pilot9\n",
            "pilot3\n",
            "pilot5\n",
            "pilot6\n",
            "pilot7\n",
            "pilot1\n",
            "pilot2\n",
            "pilot8\n",
            "pilot4\n"
          ]
        }
      ]
    },
    {
      "cell_type": "code",
      "source": [
        "print(f'Полеты совершались на дронах следующих моделей: {\", \".join(set(drone_list))}')"
      ],
      "metadata": {
        "id": "22O42D41GUCm",
        "outputId": "8edf7e67-d546-4469-e136-0a4f93c25aab",
        "colab": {
          "base_uri": "https://localhost:8080/"
        }
      },
      "execution_count": null,
      "outputs": [
        {
          "output_type": "stream",
          "name": "stdout",
          "text": [
            "Полеты совершались на дронах следующих моделей: DJI Mavic 2 Enterprise Advanced, DJI Mavic 3, DJI Mavic 2 Zoom, DJI Inspire 2, DJI Mavic 2 Pro\n"
          ]
        }
      ]
    },
    {
      "cell_type": "markdown",
      "source": [
        "\n",
        "TODO 2-3) Получите список миссий для каждой модели дронов, которые были в файле pilot_path.json, и выведите на экран модель дрона и количество миссий, которые он отлетал"
      ],
      "metadata": {
        "id": "t51PzYWdHVhs"
      }
    },
    {
      "cell_type": "code",
      "source": [
        "for x in set(drone_list):\n",
        "    print(f'Дрон {x} отлетал {drone_list.count(x)} миссий')"
      ],
      "metadata": {
        "id": "Z2843tVrGWGk",
        "outputId": "ccc3d5f8-657f-4fc7-c6be-7a7738104e4e",
        "colab": {
          "base_uri": "https://localhost:8080/"
        }
      },
      "execution_count": null,
      "outputs": [
        {
          "output_type": "stream",
          "name": "stdout",
          "text": [
            "Дрон DJI Mavic 2 Enterprise Advanced отлетал 10 миссий\n",
            "Дрон DJI Mavic 3 отлетал 4 миссий\n",
            "Дрон DJI Mavic 2 Zoom отлетал 9 миссий\n",
            "Дрон DJI Inspire 2 отлетал 6 миссий\n",
            "Дрон DJI Mavic 2 Pro отлетал 6 миссий\n"
          ]
        }
      ]
    },
    {
      "cell_type": "markdown",
      "source": [
        "\n",
        "ЗАДАНИЕ 3: Создание классов\n",
        "\n",
        "Для вас уже написаны заготовки классов Aircraft и UAV\n",
        "\n",
        "TODO 3-1) Добавьте в класс UAV защищенный атрибут _=_missions (тип - список списков [[], []]), куда вы будете сохранять все миссии, которые отлетал беспилотник\n",
        "\n",
        "TODO 3-2) При помощи декоратора @property сделайте возможность чтения и записи миссий в этот атрибут (лекция 8)\n",
        "\n",
        "TODO 3-3) Создайте в классе UAV публичный метод count_missions, который возвращает количество миссий (лекция 7)\n",
        "\n",
        "TODO 3-4) Создайте класс MultirotorUAV - наследник классов Aircraft и UAV (лекция 7)"
      ],
      "metadata": {
        "id": "B0a0hdjaHYGX"
      }
    },
    {
      "cell_type": "code",
      "source": [
        "class Aircraft:\n",
        "    def __init__(self, weight):\n",
        "        self._weight = weight\n",
        "        \n",
        "class UAV:\n",
        "    def __init__(self):\n",
        "        self._has_autopilot = True\n",
        "        self._missions = []\n",
        "        \n",
        "    @property\n",
        "    def missions(self):\n",
        "        return self._missions\n",
        "    \n",
        "    @missions.setter\n",
        "    def missions(self, lst):\n",
        "        self._missions.append(lst)\n",
        "        \n",
        "    def count_missions(self):\n",
        "        return len(self._missions)"
      ],
      "metadata": {
        "id": "lFrGkG98GWJI"
      },
      "execution_count": null,
      "outputs": []
    },
    {
      "cell_type": "code",
      "source": [
        "class MultirotorUAV(Aircraft, UAV):\n",
        "    def __init__(self, weight, model, brand):\n",
        "        super().__init__(weight)\n",
        "        UAV.__init__(self)\n",
        "        self.__weight = weight\n",
        "        self.__model = model\n",
        "        self.__brand = brand\n",
        "        \n",
        "    def get_info(self):\n",
        "        return f'Информация: {self.get_model()}: масса {self.__weight}, производитель {self.__brand}, количество миссий {self.count_missions()}'\n",
        "    \n",
        "    def get_model(self):\n",
        "        return self.__model"
      ],
      "metadata": {
        "id": "3lRTk6yxGYwU"
      },
      "execution_count": null,
      "outputs": []
    },
    {
      "cell_type": "code",
      "source": [
        "drone_catalog = {\n",
        "\t\"DJI Mavic 2 Pro\": {\"weight\":903, \"brand\":\"DJI\"},\n",
        "\t\"DJI Mavic 2 Zoom\": {\"weight\":900, \"brand\":\"DJI\"},\n",
        "\t\"DJI Mavic 2 Enterprise Advanced\": {\"weight\":920, \"brand\":\"DJI\"},\n",
        "\t\"DJI Inspire 2\": {\"weight\":1500, \"brand\":\"DJI\"},\n",
        "\t\"DJI Mavic 3\": {\"weight\":1000, \"brand\":\"DJI\"}\n",
        "}"
      ],
      "metadata": {
        "id": "hr3PPo26GY2I"
      },
      "execution_count": null,
      "outputs": []
    },
    {
      "cell_type": "markdown",
      "source": [
        "\n",
        "ЗАДАНИЕ 4: Работа с экземплярами классов\n",
        "\n",
        "TODO 4-1) Создайте экземпляры класса MultirotorUAV для всех моделей дронов, которые были в файле pilot_path.json\n",
        "\n",
        "Подсказка: созданные экземпляры класса MultirotorUAV сохраните в список для последующего использования\n",
        "\n",
        "TODO 4-2) При создании каждого экземпляра задайте ему как приватные атрибуты массу и производителя из справочника дронов drone_catalog в соответствии с моделью дрона\n",
        "\n",
        "TODO 4-3) А также добавьте ему миссии, найденные для этой модели дрона на шаге 2-3 Напоминание: миссии находятся в атрибуте missions (с декоратором, и поэтому он публично доступен) в классе UAV"
      ],
      "metadata": {
        "id": "BIKFU7z_Hb85"
      }
    },
    {
      "cell_type": "code",
      "source": [
        "classes = []\n",
        "for x in drone_catalog:\n",
        "    x = MultirotorUAV(drone_catalog[x]['weight'], x, drone_catalog[x]['brand'])\n",
        "    for p in data:\n",
        "        for mission in data[p]['missions']:\n",
        "            if x.get_model() == mission['drone']:\n",
        "                # print(mission['mission'])\n",
        "                x.missions = mission['mission']\n",
        "    classes.append(x)"
      ],
      "metadata": {
        "id": "7BuEKDR3Gaql"
      },
      "execution_count": null,
      "outputs": []
    },
    {
      "cell_type": "markdown",
      "source": [
        "TODO 4-4 Напишите код, который выводит информацию по заданной модели дрона. Состав информации: масса, производитель, количество отлетанных миссий (название модели пользователь вводит с клавиатуры в любом регистре, но без опечаток) Подсказка: для этого вам необходимо вернуться в ЗАДАНИЕ 3 и добавить в класс два публичных метода: get_info(), который выводит нужную информацию, и get_model, который позволит получить название модели дрона"
      ],
      "metadata": {
        "id": "spQRPowRHesS"
      }
    },
    {
      "cell_type": "code",
      "source": [
        "inpt = input(\"Model: \")\n",
        "for x in classes:\n",
        "    if x.get_model().lower() == inpt.lower():\n",
        "        print(x.get_info())\n",
        "        break"
      ],
      "metadata": {
        "id": "wzFhg6bKGatn",
        "outputId": "cb3d6099-67ee-49f4-cda6-9c49ee912b00",
        "colab": {
          "base_uri": "https://localhost:8080/"
        }
      },
      "execution_count": null,
      "outputs": [
        {
          "output_type": "stream",
          "name": "stdout",
          "text": [
            "Model: DJI Mavic 2 Pro\n",
            "Информация: DJI Mavic 2 Pro: масса 903, производитель DJI, количество миссий 6\n"
          ]
        }
      ]
    },
    {
      "cell_type": "code",
      "source": [],
      "metadata": {
        "id": "hdP49mIRGY7C"
      },
      "execution_count": null,
      "outputs": []
    }
  ],
  "metadata": {
    "colab": {
      "provenance": []
    },
    "kernelspec": {
      "display_name": "Python 3",
      "name": "python3"
    }
  },
  "nbformat": 4,
  "nbformat_minor": 0
}