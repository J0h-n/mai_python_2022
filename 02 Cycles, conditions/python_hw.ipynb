{
 "cells": [
  {
   "cell_type": "code",
   "execution_count": 6,
   "id": "623f5fef",
   "metadata": {},
   "outputs": [
    {
     "name": "stdout",
     "output_type": "stream",
     "text": [
      "DJI Mavic 2 Pro\n",
      "DJI Mavic 2 Zoom\n",
      "DJI Mavic 2 Enterprise Advanced\n",
      "AUTEL Evo II Pro\n",
      "DJI Mini 2\n",
      "Autel Evo Nano\n",
      "Autel Evo Lite Plus\n",
      "Parrot Anafi\n",
      "Dji Inspire 2\n",
      "DJI Mavic 3\n",
      "DJI Mavic Air2s\n",
      "Ryze Tello\n",
      "Eachine Trashcan\n"
     ]
    }
   ],
   "source": [
    "drone_list = [\"DJI Mavic 2 Pro\", \"DJI Mavic 2 Zoom\", \"DJI Mavic 2 Enterprise Advanced\", \"AUTEL Evo II Pro\", \"DJI Mini 2\", \"Autel Evo Nano\", \"Autel Evo Lite Plus\", \"Parrot Anafi\", \"Dji Inspire 2\", \"DJI Mavic 3\", \"DJI Mavic Air2s\", \"Ryze Tello\", \"Eachine Trashcan\"]\n",
    "\n",
    "drone_weight_list = [903, 900, 920, 980, 249, 249, 600, 540, 1500, 1000, 570, 130, 110]\n",
    "\n",
    "#в drone по очереди попадает каждый дрон из списка drone_list\n",
    "for drone in drone_list:\n",
    "\tprint(drone)"
   ]
  },
  {
   "cell_type": "code",
   "execution_count": 7,
   "id": "67617faf",
   "metadata": {},
   "outputs": [
    {
     "name": "stdout",
     "output_type": "stream",
     "text": [
      "dji\n",
      "DJI Mavic 2 Pro \n",
      "DJI Mavic 2 Zoom \n",
      "DJI Mavic 2 Enterprise Advanced \n",
      "DJI Mini 2 \n",
      "DJI Inspire 2 \n",
      "DJI Mavic 3 \n",
      "DJI Mavic Air2s \n",
      "Число дронов производителя:7\n"
     ]
    }
   ],
   "source": [
    "Input = input()\n",
    "counter=0\n",
    "for drone in drone_list:\n",
    "  if Input.upper() == drone.split(\" \")[0].upper():\n",
    "    counter+=1\n",
    "    string=\"\"\n",
    "    for d in drone.split(\" \"):\n",
    "      if d==\"Dji\":\n",
    "        d = \"DJI\"\n",
    "      elif d==\"AUTEL\":\n",
    "        d = \"Autel\"\n",
    "      string +=d+\" \"\n",
    "    print(string)\n",
    "print(\"Число дронов производителя:\" + str(counter))"
   ]
  },
  {
   "cell_type": "code",
   "execution_count": 8,
   "id": "6a4c06fc",
   "metadata": {},
   "outputs": [
    {
     "name": "stdout",
     "output_type": "stream",
     "text": [
      "Количество моделей дронов DJI = 7\n",
      "Количество моделей дронов Autel = 3\n",
      "Количество моделей дронов Parrot = 1\n",
      "Количество моделей дронов Ryze = 1\n",
      "Количество моделей дронов Eachine = 1\n"
     ]
    }
   ],
   "source": [
    "for x, drone in enumerate(drone_list):\n",
    "    drone_list[x] = drone.split(\" \")[0].upper()\n",
    "\n",
    "names = [\"DJI\", \"Autel\", \"Parrot\", \"Ryze\", \"Eachine\"]\n",
    "\n",
    "for name in names:\n",
    "    print(\"Количество моделей дронов\", name,\"=\",drone_list.count(name.upper()))"
   ]
  },
  {
   "cell_type": "code",
   "execution_count": 9,
   "id": "977420d4",
   "metadata": {},
   "outputs": [
    {
     "name": "stdout",
     "output_type": "stream",
     "text": [
      "Нужно регистировать:  DJI Mavic 2 Pro\n",
      "Нужно регистировать:  DJI Mavic 2 Zoom\n",
      "Нужно регистировать:  DJI Mavic 2 Enterprise Advanced\n",
      "Нужно регистировать:  AUTEL Evo II Pro\n",
      "Нужно регистировать:  DJI Mini 2\n",
      "Нужно регистировать:  Autel Evo Nano\n",
      "Нужно регистировать:  Autel Evo Lite Plus\n",
      "Нужно регистировать:  Parrot Anafi\n",
      "Нужно регистировать:  Dji Inspire 2\n",
      "Нужно регистировать:  DJI Mavic 3\n",
      "Нужно регистировать:  DJI Mavic Air2s\n",
      "Не нужно регистировать:  Ryze Tello\n",
      "Не нужно регистировать:  Eachine Trashcan\n",
      "Всего дронов, требующих регистрации: 11\n",
      "Всего дронов, не требующих регистрации: 2\n"
     ]
    }
   ],
   "source": [
    "drone_list = [\"DJI Mavic 2 Pro\", \"DJI Mavic 2 Zoom\", \"DJI Mavic 2 Enterprise Advanced\", \"AUTEL Evo II Pro\", \"DJI Mini 2\", \"Autel Evo Nano\", \"Autel Evo Lite Plus\", \"Parrot Anafi\", \"Dji Inspire 2\", \"DJI Mavic 3\", \"DJI Mavic Air2s\", \"Ryze Tello\", \"Eachine Trashcan\"]\n",
    "counter1=0\n",
    "counter2=0\n",
    "for drone, weight in zip(drone_list,  drone_weight_list):\n",
    "  if weight>150:\n",
    "    counter1 += 1\n",
    "    print(\"Нужно регистировать: \",drone)\n",
    "  else:\n",
    "    counter2+=1\n",
    "    print(\"Не нужно регистировать: \",drone)\n",
    "\n",
    "print(\"Всего дронов, требующих регистрации:\", counter1)\n",
    "print(\"Всего дронов, не требующих регистрации:\", counter2)"
   ]
  },
  {
   "cell_type": "code",
   "execution_count": 10,
   "id": "e5ff9d06",
   "metadata": {},
   "outputs": [
    {
     "name": "stdout",
     "output_type": "stream",
     "text": [
      "Нужно согласовывать полет:  DJI Mavic 2 Pro\n",
      "Нужно согласовывать полет:  DJI Mavic 2 Zoom\n",
      "Нужно согласовывать полет:  DJI Mavic 2 Enterprise Advanced\n",
      "Нужно согласовывать полет:  AUTEL Evo II Pro\n",
      "Нужно согласовывать полет:  DJI Mini 2\n",
      "Нужно согласовывать полет:  Autel Evo Nano\n",
      "Нужно согласовывать полет:  Autel Evo Lite Plus\n",
      "Нужно согласовывать полет:  Parrot Anafi\n",
      "Нужно согласовывать полет:  Dji Inspire 2\n",
      "Нужно согласовывать полет:  DJI Mavic 3\n",
      "Нужно согласовывать полет:  DJI Mavic Air2s\n",
      "Нужно согласовывать полет:  Ryze Tello\n",
      "Нужно согласовывать полет:  Eachine Trashcan\n"
     ]
    }
   ],
   "source": [
    "Height = 100\n",
    "locality = True\n",
    "closed_area = True\n",
    "direct_visibility = True\n",
    "for drone, weight in zip(drone_list,  drone_weight_list):\n",
    "  if weight>150 or Height>=100 or locality or closed_area or direct_visibility:\n",
    "    print(\"Нужно согласовывать полет: \",drone)\n",
    "  else:\n",
    "    print(\"Не нужно согласовывать полет: \",drone)"
   ]
  },
  {
   "cell_type": "code",
   "execution_count": 11,
   "id": "44e29ee6",
   "metadata": {},
   "outputs": [
    {
     "name": "stdout",
     "output_type": "stream",
     "text": [
      "Autel\n",
      "Evo II Pro \n",
      "Evo Nano \n",
      "Evo Lite Plus \n",
      "Число дронов производителя:3\n"
     ]
    }
   ],
   "source": [
    "Input = input()\n",
    "counter=0\n",
    "for drone in drone_list:\n",
    "  if Input.upper() == drone.split(\" \")[0].upper():\n",
    "    counter+=1\n",
    "    string=\"\"\n",
    "    for d in drone.split(\" \")[1:]:\n",
    "      if d==\"Dji\":\n",
    "        d = \"DJI\"\n",
    "      elif d==\"AUTEL\":\n",
    "        d = \"Autel\"\n",
    "      string +=d+\" \"\n",
    "    print(string)\n",
    "print(\"Число дронов производителя:\" + str(counter))"
   ]
  },
  {
   "cell_type": "code",
   "execution_count": null,
   "id": "7987e65a",
   "metadata": {},
   "outputs": [],
   "source": []
  }
 ],
 "metadata": {
  "kernelspec": {
   "display_name": "Python 3 (ipykernel)",
   "language": "python",
   "name": "python3"
  },
  "language_info": {
   "codemirror_mode": {
    "name": "ipython",
    "version": 3
   },
   "file_extension": ".py",
   "mimetype": "text/x-python",
   "name": "python",
   "nbconvert_exporter": "python",
   "pygments_lexer": "ipython3",
   "version": "3.9.12"
  }
 },
 "nbformat": 4,
 "nbformat_minor": 5
}
